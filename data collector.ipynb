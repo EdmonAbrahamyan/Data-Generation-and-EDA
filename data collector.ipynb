{
 "cells": [
  {
   "cell_type": "code",
   "execution_count": null,
   "id": "60a97161",
   "metadata": {},
   "outputs": [],
   "source": [
    "import pandas as pd\n",
    "import requests\n",
    "import asyncio\n",
    "from aiohttp import ClientSession\n",
    "from urllib.error import HTTPError"
   ]
  },
  {
   "cell_type": "code",
   "execution_count": null,
   "id": "1115cf0a",
   "metadata": {},
   "outputs": [],
   "source": [
    "url_randomuser = 'https://randomuser.me/api/'"
   ]
  },
  {
   "cell_type": "code",
   "execution_count": null,
   "id": "4681e87d",
   "metadata": {},
   "outputs": [],
   "source": [
    "d = {'Name' : [], 'Gender' : [], 'Age' : [], 'Country' : [], 'Email' : [], 'Phone' : [], 'Registered Year' : []}"
   ]
  },
  {
   "cell_type": "code",
   "execution_count": null,
   "id": "5b7a026a",
   "metadata": {},
   "outputs": [],
   "source": [
    "async def get_user_data(session):\n",
    "    url = url_randomuser\n",
    "    try:\n",
    "        response = await session.request(method='GET', url=url, headers={'User-Agent': 'Chrome'})\n",
    "        response.raise_for_status()\n",
    "    except HTTPError as http_err:\n",
    "        print(f\"HTTP error occurred: {http_err}\")\n",
    "    except Exception as err:\n",
    "        print(f\"An error ocurred: {err}\")\n",
    "    response_json = await response.json()\n",
    "    return response_json"
   ]
  },
  {
   "cell_type": "code",
   "execution_count": null,
   "id": "9d058dcf",
   "metadata": {},
   "outputs": [],
   "source": [
    "async def run_program(session):\n",
    "    try:\n",
    "        response = await get_user_data(session)\n",
    "        extract_fields_from_response(response)\n",
    "    except Exception as err:\n",
    "        print(f\"Exception occured: {err}\")\n",
    "        pass"
   ]
  },
  {
   "cell_type": "code",
   "execution_count": null,
   "id": "d0072c13",
   "metadata": {},
   "outputs": [],
   "source": [
    "def extract_fields_from_response(response):\n",
    "    user = response['results'][0]\n",
    "    d['Name'].append(user['name']['first'] + ' ' + user['name']['last'])\n",
    "    d['Gender'].append(user['gender'])\n",
    "    d['Age'].append(user['dob']['age'])\n",
    "    d['Country'].append(user['location']['country'])\n",
    "    d['Email'].append(user['email'])\n",
    "    d['Phone'].append(user['phone'])\n",
    "    d['Registered Year'].append(int(user['registered']['date'][:4]))"
   ]
  },
  {
   "cell_type": "code",
   "execution_count": null,
   "id": "d7929520",
   "metadata": {},
   "outputs": [],
   "source": [
    "async with ClientSession() as session:\n",
    "    for i in range(10000):\n",
    "        await run_program(session)"
   ]
  },
  {
   "cell_type": "code",
   "execution_count": null,
   "id": "d2baec36",
   "metadata": {},
   "outputs": [],
   "source": [
    "data = pd.DataFrame(d)"
   ]
  },
  {
   "cell_type": "code",
   "execution_count": null,
   "id": "e51900f4",
   "metadata": {},
   "outputs": [],
   "source": [
    "data.to_csv('User_data.csv', index = False)"
   ]
  }
 ],
 "metadata": {
  "kernelspec": {
   "display_name": "Python 3",
   "language": "python",
   "name": "python3"
  },
  "language_info": {
   "codemirror_mode": {
    "name": "ipython",
    "version": 3
   },
   "file_extension": ".py",
   "mimetype": "text/x-python",
   "name": "python",
   "nbconvert_exporter": "python",
   "pygments_lexer": "ipython3",
   "version": "3.8.8"
  }
 },
 "nbformat": 4,
 "nbformat_minor": 5
}
